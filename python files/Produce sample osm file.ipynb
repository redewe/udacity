{
 "cells": [
  {
   "cell_type": "code",
   "execution_count": 5,
   "metadata": {
    "collapsed": false,
    "deletable": true,
    "editable": true
   },
   "outputs": [],
   "source": [
    "#Obtain sample to help with cleaning\n",
    "import xml.etree.ElementTree as ET  # Use cElementTree or lxml if too slow\n",
    "import base64\n",
    "\n",
    "OSM_FILE = \"../data_input_output/singapore.osm\"  \n",
    "SAMPLE_FILE = \"../data_input_output/sample.osm\"\n",
    "\n",
    "k = 45 # Parameter: take every k-th top level element\n",
    "\n",
    "def get_element(osm_file):\n",
    "    context = iter(ET.iterparse(osm_file, events=('start', 'end')))\n",
    "    _, root = next(context)\n",
    "    for event, elem in context:\n",
    "        if event == 'end':\n",
    "            yield elem\n",
    "            root.clear()\n",
    "\n",
    "\n",
    "with open(SAMPLE_FILE, 'wb') as output:\n",
    "    output_str='<?xml version=\"1.0\" encoding=\"UTF-8\"?>\\n'\n",
    "    output_str += '<osm>\\n'\n",
    "    \n",
    "    output.write(output_str.encode('utf-8'))\n",
    "    \n",
    "    # Write every kth top level element\n",
    "    for i, element in enumerate(get_element(OSM_FILE)):\n",
    "        if i % k == 0:\n",
    "            output.write(ET.tostring(element))#, encoding='utf-8'))\n",
    "    \n",
    "    output_str='</osm>'\n",
    "    output.write(output_str.encode('utf-8'))"
   ]
  }
 ],
 "metadata": {
  "kernelspec": {
   "display_name": "Python 3",
   "language": "python",
   "name": "python3"
  },
  "language_info": {
   "codemirror_mode": {
    "name": "ipython",
    "version": 3
   },
   "file_extension": ".py",
   "mimetype": "text/x-python",
   "name": "python",
   "nbconvert_exporter": "python",
   "pygments_lexer": "ipython3",
   "version": "3.6.2"
  }
 },
 "nbformat": 4,
 "nbformat_minor": 2
}
